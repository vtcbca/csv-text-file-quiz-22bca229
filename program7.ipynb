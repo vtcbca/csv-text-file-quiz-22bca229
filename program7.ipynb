{
 "cells": [
  {
   "cell_type": "code",
   "execution_count": 1,
   "id": "50997de6",
   "metadata": {},
   "outputs": [],
   "source": [
    "import csv"
   ]
  },
  {
   "cell_type": "code",
   "execution_count": 15,
   "id": "daf50630",
   "metadata": {},
   "outputs": [],
   "source": [
    "\n",
    "with open(\"intro.txt\", \"w\") as file:\n",
    "    file.write(\"Hello, this is an introduction.\\n\")\n",
    "    file.write(\"I am a farhan tai.\\n\")\n",
    "    file.write(\"I hope you find me useful.\\n\")\n",
    "    file.write(\"i am bca student.\\n\")\n",
    "    file.write(\"Have a great day.\\n\")\n",
    "    \n",
    "\n",
    "\n"
   ]
  },
  {
   "cell_type": "code",
   "execution_count": 16,
   "id": "621264eb",
   "metadata": {},
   "outputs": [],
   "source": [
    "\n",
    "with open(\"intro.txt\", \"r\") as file:\n",
    "    lines = file.readlines()\n",
    "    even_lines = [line for i, line in enumerate(lines) if i % 2 == 1]"
   ]
  },
  {
   "cell_type": "code",
   "execution_count": 17,
   "id": "a05093af",
   "metadata": {},
   "outputs": [
    {
     "name": "stdout",
     "output_type": "stream",
     "text": [
      "I am a farhan tai.\n",
      "i am bca student.\n"
     ]
    }
   ],
   "source": [
    "for line in even_lines:\n",
    "    print(line.strip())\n"
   ]
  },
  {
   "cell_type": "code",
   "execution_count": null,
   "id": "d4457925",
   "metadata": {},
   "outputs": [],
   "source": []
  }
 ],
 "metadata": {
  "kernelspec": {
   "display_name": "Python 3 (ipykernel)",
   "language": "python",
   "name": "python3"
  },
  "language_info": {
   "codemirror_mode": {
    "name": "ipython",
    "version": 3
   },
   "file_extension": ".py",
   "mimetype": "text/x-python",
   "name": "python",
   "nbconvert_exporter": "python",
   "pygments_lexer": "ipython3",
   "version": "3.11.4"
  }
 },
 "nbformat": 4,
 "nbformat_minor": 5
}
